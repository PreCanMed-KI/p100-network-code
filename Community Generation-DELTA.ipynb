{
 "cells": [
  {
   "cell_type": "code",
   "execution_count": 1,
   "metadata": {
    "collapsed": false
   },
   "outputs": [
    {
     "data": {
      "application/javascript": [
       "var kernel = IPython.notebook.kernel;\n",
       "var body = document.body,  \n",
       "    attribs = body.attributes;\n",
       "var command = \"theNotebook = \" + \"'\"+attribs['data-notebook-name'].value+\"'\";\n",
       "kernel.execute(command);"
      ],
      "text/plain": [
       "<IPython.core.display.Javascript object>"
      ]
     },
     "metadata": {},
     "output_type": "display_data"
    }
   ],
   "source": [
    "%%javascript\n",
    "var kernel = IPython.notebook.kernel;\n",
    "var body = document.body,  \n",
    "    attribs = body.attributes;\n",
    "var command = \"theNotebook = \" + \"'\"+attribs['data-notebook-name'].value+\"'\";\n",
    "kernel.execute(command);"
   ]
  },
  {
   "cell_type": "code",
   "execution_count": 2,
   "metadata": {
    "collapsed": false
   },
   "outputs": [],
   "source": [
    "%load_ext autoreload\n",
    "%autoreload 2"
   ]
  },
  {
   "cell_type": "code",
   "execution_count": 3,
   "metadata": {
    "collapsed": false
   },
   "outputs": [
    {
     "name": "stdout",
     "output_type": "stream",
     "text": [
      "logging to community-generation.log\n"
     ]
    }
   ],
   "source": [
    "try:\n",
    "    run_once\n",
    "except NameError:\n",
    "    run_once = False\n",
    "if not run_once:\n",
    "    run_once = True\n",
    "    \n",
    "    import time\n",
    "    import logging\n",
    "    reload(logging)\n",
    "    FORMAT = '%(asctime)s - %(name)s - %(levelname)s - %(message)s'\n",
    "    logpath = 'community-generation-delta.log'\n",
    "    logging.basicConfig(filename=logpath,level=logging.DEBUG, format=FORMAT)\n",
    "    print(\"logging to %s\" % (logpath))\n",
    "    logger = logging.getLogger()\n",
    "    #logger.basicConfig(filename='/notebooks/Export Microbiome to database.log',level=logging.DEBUG)\n",
    "    logger.setLevel(logging.DEBUG)\n",
    "    ch = logging.StreamHandler()\n",
    "    ch.setLevel(logging.DEBUG)\n",
    "\n",
    "    # create formatter\n",
    "    formatter = logging.Formatter('%(asctime)s - %(name)s - %(levelname)s - %(message)s')\n",
    "\n",
    "    # add formatter to ch\n",
    "    ch.setFormatter(formatter)\n",
    "\n",
    "    # add ch to logger\n",
    "    logger.addHandler(ch)"
   ]
  },
  {
   "cell_type": "code",
   "execution_count": null,
   "metadata": {
    "collapsed": true
   },
   "outputs": [],
   "source": [
    "%%bash\n",
    "\n",
    "pip2 install python-louvain"
   ]
  },
  {
   "cell_type": "code",
   "execution_count": 4,
   "metadata": {
    "collapsed": false
   },
   "outputs": [],
   "source": [
    "%matplotlib inline\n",
    "import pandas, pandas.io\n",
    "import re\n",
    "import seaborn as sns\n",
    "import math\n",
    "import scipy, scipy.stats\n",
    "import matplotlib.pyplot as plt\n",
    "import numpy as np\n",
    "import string\n",
    "import networkx as nx\n",
    "import community\n",
    "logging.getLogger('boto').setLevel(logging.INFO)\n",
    "logging.getLogger('p100').setLevel(logging.INFO)"
   ]
  },
  {
   "cell_type": "code",
   "execution_count": 5,
   "metadata": {
    "collapsed": true
   },
   "outputs": [],
   "source": [
    "def select(res, substring=None, ids = None):\n",
    "    \"\"\"Helper function to search network dataframe.\n",
    "    \"\"\"\n",
    "    if substring:\n",
    "        ss_sel = _select_substring(res,  substring.lower() )\n",
    "    if ids:\n",
    "        raise Exception(\"id unimplemented\")\n",
    "        id_sel = _select_ids(res, ids[0], ids[1])\n",
    "    return res[ss_sel]\n",
    "\n",
    "def _select_ids( res, datasource_id, variable_id ):\n",
    "    sel = (res.ds_id_1 == datasource_id & res.variable_id_1 == variable_id )\n",
    "    sel = sel | (res.ds_id_2 == datasource_id & res.variable_id_2 == variable_id )\n",
    "    return sel\n",
    "def _select_substring( res, substring ):\n",
    "    \n",
    "    ann = res.annotations_1.unique().tolist() + res.annotations_2.unique().tolist()\n",
    "    sel = res.annotations_1 == ''\n",
    "    text =  set([a for a in ann if a.lower().find(substring) >= 0.0])\n",
    "    for an in text:\n",
    "        sel = sel | (res.annotations_1 == an)\n",
    "        sel = sel | (res.annotations_2 == an) \n",
    "    return sel"
   ]
  },
  {
   "cell_type": "code",
   "execution_count": 6,
   "metadata": {
    "collapsed": true
   },
   "outputs": [],
   "source": [
    "DATA_DIR = '/home/jovyan/work/data'"
   ]
  },
  {
   "cell_type": "code",
   "execution_count": 7,
   "metadata": {
    "collapsed": false
   },
   "outputs": [],
   "source": [
    "res = pandas.read_pickle(DATA_DIR + '/community/full.DELTA.correlation.network.pkl')"
   ]
  },
  {
   "cell_type": "code",
   "execution_count": 8,
   "metadata": {
    "collapsed": false
   },
   "outputs": [
    {
     "data": {
      "text/plain": [
       "(32205, 12)"
      ]
     },
     "execution_count": 8,
     "metadata": {},
     "output_type": "execute_result"
    }
   ],
   "source": [
    "max_pval_adj = 0.05\n",
    "\n",
    "sig = res[(res.pval_adj < max_pval_adj)]\n",
    "sig.shape"
   ]
  },
  {
   "cell_type": "code",
   "execution_count": 9,
   "metadata": {
    "collapsed": false
   },
   "outputs": [
    {
     "name": "stdout",
     "output_type": "stream",
     "text": [
      "853\n",
      "71\n",
      "4\n"
     ]
    },
    {
     "data": {
      "text/plain": [
       "(31277, 12)"
      ]
     },
     "execution_count": 9,
     "metadata": {},
     "output_type": "execute_result"
    }
   ],
   "source": [
    "sub = select(sig, 'COACH')\n",
    "remove = sub.index\n",
    "mask1 = sig.index.isin(remove)\n",
    "print mask1.sum()\n",
    "sub = select(sig, 'AGES')\n",
    "remove = sub.index\n",
    "mask2 = sig.index.isin(remove)\n",
    "print mask2.sum()\n",
    "sub = select(sig, 'CHEMS.None.Genova.height')\n",
    "remove = sub.index\n",
    "mask3 = sig.index.isin(remove)\n",
    "print mask3.sum()\n",
    "sig = sig[~(mask1 | mask2 | mask3)]\n",
    "sig.shape"
   ]
  },
  {
   "cell_type": "code",
   "execution_count": 10,
   "metadata": {
    "collapsed": false
   },
   "outputs": [
    {
     "data": {
      "text/plain": [
       "(31222, 12)"
      ]
     },
     "execution_count": 10,
     "metadata": {},
     "output_type": "execute_result"
    }
   ],
   "source": [
    "rem = pandas.read_csv(DATA_DIR + '/community/duplicate_measurements.05012016.txt', sep='\\t', header=None)\n",
    "rem.columns = ['ann1', 'ann2']\n",
    "\n",
    "mask = []\n",
    "for index, row in sig.iterrows():\n",
    "    \n",
    "    found = False\n",
    "    for index2, row2 in rem.iterrows():\n",
    "        \n",
    "        if (row['annotations_1']==row2['ann1']) and (row['annotations_2']==row2['ann2']):\n",
    "            found = True\n",
    "            break;\n",
    "        elif (row['annotations_1']==row2['ann2']) and (row['annotations_2']==row2['ann1']):\n",
    "            found = True\n",
    "            break;\n",
    "\n",
    "    mask.append(found)\n",
    "    \n",
    "mask = np.array(mask)\n",
    "sig = sig[~mask]\n",
    "sig.shape"
   ]
  },
  {
   "cell_type": "code",
   "execution_count": 11,
   "metadata": {
    "collapsed": true
   },
   "outputs": [],
   "source": [
    "# Save resulting network to text file\n",
    "sig.to_pickle(DATA_DIR + '/community/correlation_network.DELTA.sig.nodups.FULL.pkl')"
   ]
  },
  {
   "cell_type": "code",
   "execution_count": 12,
   "metadata": {
    "collapsed": false
   },
   "outputs": [
    {
     "name": "stdout",
     "output_type": "stream",
     "text": [
      "(2406, 12)\n"
     ]
    }
   ],
   "source": [
    "mask = []\n",
    "# Now remove all correlations between pairwise elements\n",
    "for index, row in sig.iterrows():\n",
    "    \n",
    "    cat1 = row['annotations_1'][0:5]\n",
    "    cat2 = row['annotations_2'][0:5]\n",
    "    \n",
    "    if (cat1 == cat2):\n",
    "        mask.append(False)\n",
    "    else:\n",
    "        mask.append(True)\n",
    "        \n",
    "sig = sig[mask]\n",
    "print sig.shape"
   ]
  },
  {
   "cell_type": "code",
   "execution_count": 13,
   "metadata": {
    "collapsed": false
   },
   "outputs": [
    {
     "name": "stdout",
     "output_type": "stream",
     "text": [
      "(0, 12)\n",
      "(21, 12)\n",
      "(829, 12)\n",
      "(2109, 12)\n",
      "(1860, 12)\n"
     ]
    }
   ],
   "source": [
    "print select(sig, 'GENOM').shape\n",
    "print select(sig, 'MICRO').shape\n",
    "print select(sig, 'PROTE').shape\n",
    "print select(sig, 'METAB').shape\n",
    "print select(sig, 'CHEMS').shape"
   ]
  },
  {
   "cell_type": "code",
   "execution_count": 14,
   "metadata": {
    "collapsed": true
   },
   "outputs": [],
   "source": [
    "# Save resulting network to text file\n",
    "sig.to_pickle(DATA_DIR + '/community/correlation_network.DELTA.sig.nodups.INTRAOMIC.pkl')"
   ]
  },
  {
   "cell_type": "code",
   "execution_count": 15,
   "metadata": {
    "collapsed": false
   },
   "outputs": [],
   "source": [
    "# Load data into networkx\n",
    "g = nx.Graph()"
   ]
  },
  {
   "cell_type": "code",
   "execution_count": 16,
   "metadata": {
    "collapsed": false
   },
   "outputs": [],
   "source": [
    "# add a set of nodes\n",
    "nodes = sig['annotations_1'].append(sig['annotations_2']).unique()\n",
    "datatype = {}\n",
    "super_pathways = {}\n",
    "sub_pathways = {}\n",
    "\n",
    "# Loop over nodes and get type\n",
    "for e in nodes:\n",
    "    tokens = e.split('.')\n",
    "\n",
    "    datatype[e] = tokens[0]\n",
    "    if (datatype[e]=='METAB'):\n",
    "        super_pathways[e] = tokens[2]\n",
    "        sub_pathways[e] = tokens[3]\n",
    "    \n",
    "g.add_nodes_from(list(nodes))\n",
    "nx.set_node_attributes(g, 'type', datatype)\n",
    "nx.set_node_attributes(g, 'super_pathway', super_pathways)\n",
    "nx.set_node_attributes(g, 'sub_pathway', sub_pathways)"
   ]
  },
  {
   "cell_type": "code",
   "execution_count": 17,
   "metadata": {
    "collapsed": false
   },
   "outputs": [],
   "source": [
    "# Add a set of edges\n",
    "edges = []\n",
    "attributes = []\n",
    "for row in sig.iterrows():\n",
    "    g.add_edge(row[1]['annotations_1'], row[1]['annotations_2'], {'weight':abs(row[1]['coefficient']), 'non_abs_weight':row[1]['coefficient']})  "
   ]
  },
  {
   "cell_type": "code",
   "execution_count": 18,
   "metadata": {
    "collapsed": false
   },
   "outputs": [
    {
     "name": "stdout",
     "output_type": "stream",
     "text": [
      "822 2406\n"
     ]
    }
   ],
   "source": [
    "# Count number of nodes and edges\n",
    "print g.number_of_nodes(), g.number_of_edges()"
   ]
  },
  {
   "cell_type": "code",
   "execution_count": 19,
   "metadata": {
    "collapsed": false
   },
   "outputs": [],
   "source": [
    "import sys\n",
    "def girvan_newman(G, k=None, weight=None):\n",
    "    \"\"\"Find communities in graph using Girvan–Newman method.\n",
    "\n",
    "    Parameters\n",
    "    ----------\n",
    "    G : NetworkX graph\n",
    "\n",
    "    weight : string, optional (default=None)\n",
    "       Edge data key corresponding to the edge weight.\n",
    "\n",
    "    Returns\n",
    "    -------\n",
    "    List of tuples which contains the clusters of nodes.\n",
    "\n",
    "    Examples\n",
    "    --------\n",
    "    >>> G = nx.path_graph(10)\n",
    "    >>> comp = girvan_newman(G)\n",
    "    >>> comp[0]\n",
    "    ([0, 1, 2, 3, 4], [8, 9, 5, 6, 7])\n",
    "\n",
    "    Notes\n",
    "    -----\n",
    "    The Girvan–Newman algorithm detects communities by progressively removing\n",
    "    edges from the original graph. Algorithm removes edge with the highest\n",
    "    betweenness centrality at each step. As the graph breaks down into pieces,\n",
    "    the tightly knit community structure is exposed and result can be depicted\n",
    "    as a dendrogram.\n",
    "    \"\"\"\n",
    "    # The copy of G here must include the edge weight data.\n",
    "    g = G.copy().to_undirected()\n",
    "    components = []\n",
    "    while g.number_of_edges() > 0:\n",
    "        print \"Number of edges\", g.number_of_edges()\n",
    "        sys.stdout.flush()\n",
    "        _remove_max_edge(g, k, weight)\n",
    "        components.append(tuple(list(H)\n",
    "                                for H in nx.connected_component_subgraphs(g)))\n",
    "    return components\n",
    "\n",
    "def _remove_max_edge(G, k=None, weight=None):\n",
    "    \"\"\"\n",
    "    Removes edge with the highest value on betweenness centrality.\n",
    "\n",
    "    Repeat this step until more connected components than the connected\n",
    "    components of the original graph are detected.\n",
    "\n",
    "    It is part of Girvan–Newman algorithm.\n",
    "\n",
    "    :param G: NetworkX graph\n",
    "    :param weight: string, optional (default=None) Edge data key corresponding\n",
    "    to the edge weight.\n",
    "    \"\"\"\n",
    "    number_components = nx.number_connected_components(G)\n",
    "    #print number_components\n",
    "    while nx.number_connected_components(G) <= number_components:\n",
    "        betweenness = nx.edge_betweenness_centrality(G, k=k, weight=weight)\n",
    "        #print \"finished betweenness\", nx.number_connected_components(G), number_components\n",
    "        max_value = max(betweenness.values())\n",
    "        #print \"max_value\", max_value\n",
    "        # Use a list of edges because G is changed in the loop\n",
    "        for edge in list(G.edges()):\n",
    "            if betweenness[edge] == max_value:\n",
    "                G.remove_edge(*edge)"
   ]
  },
  {
   "cell_type": "code",
   "execution_count": 20,
   "metadata": {
    "collapsed": false
   },
   "outputs": [
    {
     "name": "stdout",
     "output_type": "stream",
     "text": [
      "Number of edges 2406\n",
      "Number of edges 2384\n",
      "Number of edges 2377\n",
      "Number of edges 2359\n",
      "Number of edges 2307\n",
      "Number of edges 2300\n",
      "Number of edges 2263\n",
      "Number of edges 2253\n",
      "Number of edges 2239\n",
      "Number of edges 2209\n",
      "Number of edges 2117\n",
      "Number of edges 2099\n",
      "Number of edges 2055\n",
      "Number of edges 2054\n",
      "Number of edges 2051\n",
      "Number of edges 2049\n",
      "Number of edges 1950\n",
      "Number of edges 1932\n",
      "Number of edges 1921\n",
      "Number of edges 1918\n",
      "Number of edges 1907\n",
      "Number of edges 1903\n",
      "Number of edges 1886\n",
      "Number of edges 1843\n",
      "Number of edges 1831\n",
      "Number of edges 1810\n",
      "Number of edges 1803\n",
      "Number of edges 1794\n",
      "Number of edges 1792\n",
      "Number of edges 1789\n",
      "Number of edges 1780\n",
      "Number of edges 1765\n",
      "Number of edges 1758\n",
      "Number of edges 1745\n",
      "Number of edges 1727\n",
      "Number of edges 1715\n",
      "Number of edges 1713\n",
      "Number of edges 1700\n",
      "Number of edges 1696\n",
      "Number of edges 1687\n",
      "Number of edges 1631\n",
      "Number of edges 1613\n",
      "Number of edges 1608\n",
      "Number of edges 1604\n",
      "Number of edges 1587\n",
      "Number of edges 1553\n",
      "Number of edges 1549\n",
      "Number of edges 1538\n",
      "Number of edges 1536\n",
      "Number of edges 1530\n",
      "Number of edges 1514\n",
      "Number of edges 1507\n",
      "Number of edges 1500\n",
      "Number of edges 1487\n",
      "Number of edges 1484\n",
      "Number of edges 1468\n",
      "Number of edges 1463\n",
      "Number of edges 1454\n",
      "Number of edges 1445\n",
      "Number of edges 1441\n",
      "Number of edges 1440\n",
      "Number of edges 1435\n",
      "Number of edges 1420\n",
      "Number of edges 1395\n",
      "Number of edges 1393\n",
      "Number of edges 1377\n",
      "Number of edges 1371\n",
      "Number of edges 1363\n",
      "Number of edges 1360\n",
      "Number of edges 1342\n",
      "Number of edges 1336\n",
      "Number of edges 1335\n",
      "Number of edges 1332\n",
      "Number of edges 1330\n",
      "Number of edges 1329\n",
      "Number of edges 1321\n",
      "Number of edges 1307\n",
      "Number of edges 1304\n",
      "Number of edges 1302\n",
      "Number of edges 1294\n",
      "Number of edges 1291\n",
      "Number of edges 1287\n",
      "Number of edges 1286\n",
      "Number of edges 1283\n",
      "Number of edges 1280\n",
      "Number of edges 1274\n",
      "Number of edges 1265\n",
      "Number of edges 1258\n",
      "Number of edges 1257\n",
      "Number of edges 1250\n",
      "Number of edges 1244\n",
      "Number of edges 1243\n",
      "Number of edges 1241\n",
      "Number of edges 1239\n",
      "Number of edges 1229\n",
      "Number of edges 1222\n",
      "Number of edges 1214\n",
      "Number of edges 1212\n",
      "Number of edges 1207\n",
      "Number of edges 1205\n",
      "Number of edges 1200\n",
      "Number of edges 1197\n",
      "Number of edges 1161\n",
      "Number of edges 1156\n",
      "Number of edges 1155\n",
      "Number of edges 1132\n",
      "Number of edges 1127\n",
      "Number of edges 1122\n",
      "Number of edges 1106\n",
      "Number of edges 1104\n",
      "Number of edges 1102\n",
      "Number of edges 1099\n",
      "Number of edges 1082\n",
      "Number of edges 1078\n",
      "Number of edges 1075\n",
      "Number of edges 1069\n",
      "Number of edges 1043\n",
      "Number of edges 1034\n",
      "Number of edges 1033\n",
      "Number of edges 1032\n",
      "Number of edges 1005\n",
      "Number of edges 997\n",
      "Number of edges 995\n",
      "Number of edges 971\n",
      "Number of edges 957\n",
      "Number of edges 955\n",
      "Number of edges 953\n",
      "Number of edges 943\n",
      "Number of edges 942\n",
      "Number of edges 939\n",
      "Number of edges 934\n",
      "Number of edges 925\n",
      "Number of edges 920\n",
      "Number of edges 915\n",
      "Number of edges 912\n",
      "Number of edges 910\n",
      "Number of edges 904\n",
      "Number of edges 891\n",
      "Number of edges 883\n",
      "Number of edges 881\n",
      "Number of edges 871\n",
      "Number of edges 870\n",
      "Number of edges 864\n",
      "Number of edges 863\n",
      "Number of edges 849\n",
      "Number of edges 837\n",
      "Number of edges 833\n",
      "Number of edges 830\n",
      "Number of edges 811\n",
      "Number of edges 798\n",
      "Number of edges 776\n",
      "Number of edges 768\n",
      "Number of edges 757\n",
      "Number of edges 756\n",
      "Number of edges 753\n",
      "Number of edges 752\n",
      "Number of edges 744\n",
      "Number of edges 740\n",
      "Number of edges 738\n",
      "Number of edges 724\n",
      "Number of edges 723\n",
      "Number of edges 721\n",
      "Number of edges 718\n",
      "Number of edges 691\n",
      "Number of edges 690\n",
      "Number of edges 685\n",
      "Number of edges 684\n",
      "Number of edges 681\n",
      "Number of edges 634\n",
      "Number of edges 632\n",
      "Number of edges 630\n",
      "Number of edges 600\n",
      "Number of edges 597\n",
      "Number of edges 593\n",
      "Number of edges 591\n",
      "Number of edges 586\n",
      "Number of edges 551\n",
      "Number of edges 547\n",
      "Number of edges 540\n",
      "Number of edges 536\n",
      "Number of edges 535\n",
      "Number of edges 531\n",
      "Number of edges 527\n",
      "Number of edges 508\n",
      "Number of edges 505\n",
      "Number of edges 504\n",
      "Number of edges 501\n",
      "Number of edges 499\n",
      "Number of edges 498\n",
      "Number of edges 495\n",
      "Number of edges 478\n",
      "Number of edges 476\n",
      "Number of edges 437\n",
      "Number of edges 436\n",
      "Number of edges 432\n",
      "Number of edges 428\n",
      "Number of edges 422\n",
      "Number of edges 382\n",
      "Number of edges 380\n",
      "Number of edges 377\n",
      "Number of edges 375\n",
      "Number of edges 317\n",
      "Number of edges 313\n",
      "Number of edges 312\n",
      "Number of edges 307\n",
      "Number of edges 299\n",
      "Number of edges 297\n",
      "Number of edges 237\n",
      "Number of edges 235\n",
      "Number of edges 229\n",
      "Number of edges 228\n",
      "Number of edges 102\n",
      "Number of edges 99\n"
     ]
    }
   ],
   "source": [
    "# Note: this takes about an hou\n",
    "communities = girvan_newman(g, weight='weight')\n",
    "\n",
    "# Save the community to a file\n",
    "cindex = 0\n",
    "gindex = 0\n",
    "\n",
    "with open(DATA_DIR + '/community/generated.communities.DELTA.sig.nodups.INTRAOMIC.txt', 'w') as f:\n",
    "\n",
    "    cindex = 0\n",
    "    for community in communities:\n",
    "        gindex = 0\n",
    "        for graph in community:\n",
    "\n",
    "            for node in graph:\n",
    "                f.write(\"%d\\t%d\\t%s\\n\"%(cindex, gindex, node))\n",
    "\n",
    "            gindex += 1\n",
    "\n",
    "        cindex += 1\n",
    "\n"
   ]
  },
  {
   "cell_type": "code",
   "execution_count": 21,
   "metadata": {
    "collapsed": false
   },
   "outputs": [
    {
     "data": {
      "text/plain": [
       "213"
      ]
     },
     "execution_count": 21,
     "metadata": {},
     "output_type": "execute_result"
    }
   ],
   "source": [
    "len(communities)"
   ]
  },
  {
   "cell_type": "code",
   "execution_count": 22,
   "metadata": {
    "collapsed": false
   },
   "outputs": [],
   "source": [
    "# Load the community\n",
    "communities_dict = []\n",
    "\n",
    "current_community = None\n",
    "current_subgraph = None\n",
    "data = {}\n",
    "\n",
    "# Load the community as a set of dictionaries\n",
    "with open(DATA_DIR + '/community/generated.communities.DELTA.sig.nodups.INTRAOMIC.txt', 'r') as f:\n",
    "\n",
    "    for line in f:\n",
    "        \n",
    "        tokens = line.strip().split('\\t')\n",
    "        c = int(tokens[0])\n",
    "        subgraph = int(tokens[1])\n",
    "        node = tokens[2]\n",
    "\n",
    "        if (current_community is None):\n",
    "            current_community = c\n",
    "            current_subgraph = subgraph\n",
    "            data[node] = subgraph\n",
    "            \n",
    "        elif (c != current_community):          \n",
    "            communities_dict.append(data)\n",
    "            data = {}\n",
    "            current_community = c\n",
    "            current_subgraph = subgraph\n",
    "            \n",
    "        data[node] = subgraph\n",
    "        \n",
    "    #if (len(data)>0):\n",
    "    #    subgraphs.append(data)\n",
    "        \n",
    "    #if (len(subgraphs)>0):\n",
    "    #    communities_dict.append(subgraphs)\n",
    "            "
   ]
  },
  {
   "cell_type": "code",
   "execution_count": 23,
   "metadata": {
    "collapsed": false
   },
   "outputs": [],
   "source": [
    "import community\n",
    "results = []\n",
    "count = 0\n",
    "mods = []\n",
    "for c in communities_dict:\n",
    "    mod = community.modularity(c, g)\n",
    "    results.append((count, mod))\n",
    "    mods.append(mod)\n",
    "    count += 1\n",
    "    \n",
    "df = pandas.DataFrame(results, columns=['index', 'modularity']).sort_values('modularity', ascending=False)\n"
   ]
  },
  {
   "cell_type": "code",
   "execution_count": 24,
   "metadata": {
    "collapsed": false
   },
   "outputs": [
    {
     "data": {
      "text/html": [
       "<div>\n",
       "<table border=\"1\" class=\"dataframe\">\n",
       "  <thead>\n",
       "    <tr style=\"text-align: right;\">\n",
       "      <th></th>\n",
       "      <th>index</th>\n",
       "      <th>modularity</th>\n",
       "    </tr>\n",
       "  </thead>\n",
       "  <tbody>\n",
       "    <tr>\n",
       "      <th>20</th>\n",
       "      <td>20</td>\n",
       "      <td>0.636553</td>\n",
       "    </tr>\n",
       "    <tr>\n",
       "      <th>18</th>\n",
       "      <td>18</td>\n",
       "      <td>0.636361</td>\n",
       "    </tr>\n",
       "    <tr>\n",
       "      <th>19</th>\n",
       "      <td>19</td>\n",
       "      <td>0.636220</td>\n",
       "    </tr>\n",
       "    <tr>\n",
       "      <th>17</th>\n",
       "      <td>17</td>\n",
       "      <td>0.636173</td>\n",
       "    </tr>\n",
       "    <tr>\n",
       "      <th>16</th>\n",
       "      <td>16</td>\n",
       "      <td>0.635888</td>\n",
       "    </tr>\n",
       "  </tbody>\n",
       "</table>\n",
       "</div>"
      ],
      "text/plain": [
       "    index  modularity\n",
       "20     20    0.636553\n",
       "18     18    0.636361\n",
       "19     19    0.636220\n",
       "17     17    0.636173\n",
       "16     16    0.635888"
      ]
     },
     "execution_count": 24,
     "metadata": {},
     "output_type": "execute_result"
    }
   ],
   "source": [
    "df.head()"
   ]
  },
  {
   "cell_type": "code",
   "execution_count": 25,
   "metadata": {
    "collapsed": false
   },
   "outputs": [
    {
     "data": {
      "text/plain": [
       "[<matplotlib.lines.Line2D at 0x7f11a55366d0>]"
      ]
     },
     "execution_count": 25,
     "metadata": {},
     "output_type": "execute_result"
    },
    {
     "data": {
      "image/png": "[encoded data removed]",
      "text/plain": [
       "<matplotlib.figure.Figure at 0x7f119551cc10>"
      ]
     },
     "metadata": {},
     "output_type": "display_data"
    }
   ],
   "source": [
    "plt.plot(mods)"
   ]
  },
  {
   "cell_type": "code",
   "execution_count": 26,
   "metadata": {
    "collapsed": false
   },
   "outputs": [],
   "source": [
    "# Load the community as a list of lists\n",
    "communities = []\n",
    "\n",
    "current_community = None\n",
    "current_subgraph = None\n",
    "data = []\n",
    "subgraphs = []\n",
    "\n",
    "# Load the community as a set of dictionaries\n",
    "with open(DATA_DIR + '/community/generated.communities.DELTA.sig.nodups.INTRAOMIC.txt', 'r') as f:\n",
    "\n",
    "    for line in f:\n",
    "        \n",
    "        tokens = line.strip().split('\\t')\n",
    "        c = int(tokens[0])\n",
    "        subgraph = int(tokens[1])\n",
    "        node = tokens[2]\n",
    "\n",
    "        if (current_community is None):\n",
    "            current_community = c\n",
    "            current_subgraph = subgraph\n",
    "            \n",
    "        else:\n",
    "            \n",
    "            if (subgraph != current_subgraph):\n",
    "                subgraphs.append(data)\n",
    "                data = []\n",
    "                current_subgraph = subgraph\n",
    "            \n",
    "            if (c != current_community):          \n",
    "                communities.append(subgraphs)\n",
    "                subgraphs = []\n",
    "                current_community = c\n",
    "            \n",
    "        data.append(node)\n",
    "        \n",
    "    if (len(data)>0):\n",
    "        subgraphs.append(data)\n",
    "        \n",
    "    if (len(subgraphs)>0):\n",
    "        communities.append(subgraphs)\n",
    "            "
   ]
  },
  {
   "cell_type": "code",
   "execution_count": 27,
   "metadata": {
    "collapsed": false
   },
   "outputs": [
    {
     "name": "stdout",
     "output_type": "stream",
     "text": [
      "Number of communities 33 33\n",
      "[2, 2, 2, 2, 2, 2, 2, 2, 2, 3, 3, 3, 4, 4, 5, 5, 6, 6, 7, 10, 13, 15, 16, 19, 23, 23, 29, 29, 31, 92, 118, 131, 209]\n",
      "Node stats 24.9090909091 209 2 822\n",
      "Edge stats 59.1515151515 683 1 1952\n",
      "Percent of nodes in a community 1.0\n",
      "Percent of edges in a community 0.811305070657\n"
     ]
    }
   ],
   "source": [
    "COMMUNITY_LEVEL = 20\n",
    "nnodes = []\n",
    "nedges = []\n",
    "for e in communities[COMMUNITY_LEVEL]:\n",
    "    if (len(e)>1):   \n",
    "        sg = g.subgraph(e)\n",
    "        nnodes.append(sg.number_of_nodes())\n",
    "        nedges.append(sg.number_of_edges())\n",
    "        \n",
    "print \"Number of communities\", len(nnodes), len(nedges)\n",
    "print sorted(nnodes)\n",
    "print \"Node stats\", np.mean(nnodes), np.max(nnodes), np.min(nnodes), np.sum(nnodes)\n",
    "print \"Edge stats\", np.mean(nedges), np.max(nedges), np.min(nedges), np.sum(nedges)\n",
    "\n",
    "# Get percentage of nodes used\n",
    "print \"Percent of nodes in a community\", float(np.sum(nnodes)) / g.number_of_nodes()\n",
    "print \"Percent of edges in a community\", float(np.sum(nedges)) / g.number_of_edges()"
   ]
  },
  {
   "cell_type": "code",
   "execution_count": 28,
   "metadata": {
    "collapsed": false
   },
   "outputs": [
    {
     "data": {
      "text/html": [
       "<div>\n",
       "<table border=\"1\" class=\"dataframe\">\n",
       "  <thead>\n",
       "    <tr style=\"text-align: right;\">\n",
       "      <th></th>\n",
       "      <th>cindex</th>\n",
       "      <th>gindex</th>\n",
       "      <th>node</th>\n",
       "    </tr>\n",
       "  </thead>\n",
       "  <tbody>\n",
       "    <tr>\n",
       "      <th>0</th>\n",
       "      <td>0</td>\n",
       "      <td>0</td>\n",
       "      <td>CHEMS.None.Genova.beta_alanine_plasma</td>\n",
       "    </tr>\n",
       "    <tr>\n",
       "      <th>1</th>\n",
       "      <td>0</td>\n",
       "      <td>0</td>\n",
       "      <td>PROTE.None.Inflammation.TWEAK.None</td>\n",
       "    </tr>\n",
       "    <tr>\n",
       "      <th>2</th>\n",
       "      <td>0</td>\n",
       "      <td>0</td>\n",
       "      <td>PROTE.None.Inflammation.Flt3L.None</td>\n",
       "    </tr>\n",
       "    <tr>\n",
       "      <th>3</th>\n",
       "      <td>0</td>\n",
       "      <td>0</td>\n",
       "      <td>PROTE.None.Inflammation.uPA.None</td>\n",
       "    </tr>\n",
       "    <tr>\n",
       "      <th>4</th>\n",
       "      <td>0</td>\n",
       "      <td>0</td>\n",
       "      <td>PROTE.None.Inflammation.IL_10RB.None</td>\n",
       "    </tr>\n",
       "  </tbody>\n",
       "</table>\n",
       "</div>"
      ],
      "text/plain": [
       "   cindex  gindex                                   node\n",
       "0       0       0  CHEMS.None.Genova.beta_alanine_plasma\n",
       "1       0       0     PROTE.None.Inflammation.TWEAK.None\n",
       "2       0       0     PROTE.None.Inflammation.Flt3L.None\n",
       "3       0       0       PROTE.None.Inflammation.uPA.None\n",
       "4       0       0   PROTE.None.Inflammation.IL_10RB.None"
      ]
     },
     "execution_count": 28,
     "metadata": {},
     "output_type": "execute_result"
    }
   ],
   "source": [
    "communities = pandas.read_csv(DATA_DIR + '/community/generated.communities.DELTA.sig.nodups.INTRAOMIC.txt', header=None, sep='\\t')\n",
    "communities.columns = ['cindex', 'gindex', 'node']\n",
    "communities.head()"
   ]
  }
 ],
 "metadata": {
  "kernelspec": {
   "display_name": "Python 2",
   "language": "python",
   "name": "python2"
  },
  "language_info": {
   "codemirror_mode": {
    "name": "ipython",
    "version": 2
   },
   "file_extension": ".py",
   "mimetype": "text/x-python",
   "name": "python",
   "nbconvert_exporter": "python",
   "pygments_lexer": "ipython2",
   "version": "2.7.12"
  }
 },
 "nbformat": 4,
 "nbformat_minor": 0
}
