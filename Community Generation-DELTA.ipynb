{
 "cells": [
  {
   "cell_type": "code",
   "execution_count": 2,
   "metadata": {
    "collapsed": false
   },
   "outputs": [
    {
     "data": {
      "application/javascript": [
       "var kernel = IPython.notebook.kernel;\n",
       "var body = document.body,  \n",
       "    attribs = body.attributes;\n",
       "var command = \"theNotebook = \" + \"'\"+attribs['data-notebook-name'].value+\"'\";\n",
       "kernel.execute(command);"
      ],
      "text/plain": [
       "<IPython.core.display.Javascript object>"
      ]
     },
     "metadata": {},
     "output_type": "display_data"
    }
   ],
   "source": [
    "%%javascript\n",
    "var kernel = IPython.notebook.kernel;\n",
    "var body = document.body,  \n",
    "    attribs = body.attributes;\n",
    "var command = \"theNotebook = \" + \"'\"+attribs['data-notebook-name'].value+\"'\";\n",
    "kernel.execute(command);"
   ]
  },
  {
   "cell_type": "code",
   "execution_count": 3,
   "metadata": {
    "collapsed": false
   },
   "outputs": [],
   "source": [
    "%load_ext autoreload\n",
    "%autoreload 2"
   ]
  },
  {
   "cell_type": "code",
   "execution_count": 4,
   "metadata": {
    "collapsed": false
   },
   "outputs": [
    {
     "name": "stdout",
     "output_type": "stream",
     "text": [
      "logging to ../logs/FinalStats.Average.Networkx.CommunityModularity-DELTA-Copy1.log\n"
     ]
    }
   ],
   "source": [
    "try:\n",
    "    run_once\n",
    "except NameError:\n",
    "    run_once = False\n",
    "if not run_once:\n",
    "    run_once = True\n",
    "    \n",
    "    import time\n",
    "    import logging\n",
    "    reload(logging)\n",
    "    FORMAT = '%(asctime)s - %(name)s - %(levelname)s - %(message)s'\n",
    "    logpath = '../logs/%s.log' % ('.'.join(theNotebook.split('.')[:-1],))\n",
    "    logging.basicConfig(filename=logpath,level=logging.DEBUG, format=FORMAT)\n",
    "    print(\"logging to %s\" % (logpath))\n",
    "    logger = logging.getLogger()\n",
    "    #logger.basicConfig(filename='/notebooks/Export Microbiome to database.log',level=logging.DEBUG)\n",
    "    logger.setLevel(logging.DEBUG)\n",
    "    ch = logging.StreamHandler()\n",
    "    ch.setLevel(logging.DEBUG)\n",
    "\n",
    "    # create formatter\n",
    "    formatter = logging.Formatter('%(asctime)s - %(name)s - %(levelname)s - %(message)s')\n",
    "\n",
    "    # add formatter to ch\n",
    "    ch.setFormatter(formatter)\n",
    "\n",
    "    # add ch to logger\n",
    "    logger.addHandler(ch)"
   ]
  },
  {
   "cell_type": "code",
   "execution_count": 5,
   "metadata": {
    "collapsed": false
   },
   "outputs": [
    {
     "name": "stderr",
     "output_type": "stream",
     "text": [
      "2016-12-15 19:34:52,079 - root - INFO - Generating grammar tables from /usr/lib/python2.7/lib2to3/Grammar.txt\n",
      "2016-12-15 19:34:52,104 - root - INFO - Generating grammar tables from /usr/lib/python2.7/lib2to3/PatternGrammar.txt\n"
     ]
    }
   ],
   "source": [
    "%matplotlib inline\n",
    "import pandas, pandas.io\n",
    "import re\n",
    "import seaborn as sns\n",
    "import math\n",
    "import scipy, scipy.stats\n",
    "import matplotlib.pyplot as plt\n",
    "import numpy as np\n",
    "import string\n",
    "import networkx as nx\n",
    "import community\n",
    "logging.getLogger('boto').setLevel(logging.INFO)\n",
    "logging.getLogger('p100').setLevel(logging.INFO)"
   ]
  },
  {
   "cell_type": "code",
   "execution_count": 9,
   "metadata": {
    "collapsed": true
   },
   "outputs": [],
   "source": [
    "def select(res, substring=None, ids = None):\n",
    "    \"\"\"Helper function to search network dataframe.\n",
    "    \"\"\"\n",
    "    if substring:\n",
    "        ss_sel = _select_substring(res,  substring.lower() )\n",
    "    if ids:\n",
    "        raise Exception(\"id unimplemented\")\n",
    "        id_sel = _select_ids(res, ids[0], ids[1])\n",
    "    return res[ss_sel]\n",
    "\n",
    "def _select_ids( res, datasource_id, variable_id ):\n",
    "    sel = (res.ds_id_1 == datasource_id & res.variable_id_1 == variable_id )\n",
    "    sel = sel | (res.ds_id_2 == datasource_id & res.variable_id_2 == variable_id )\n",
    "    return sel\n",
    "def _select_substring( res, substring ):\n",
    "    \n",
    "    ann = res.annotations_1.unique().tolist() + res.annotations_2.unique().tolist()\n",
    "    sel = res.annotations_1 == ''\n",
    "    text =  set([a for a in ann if a.lower().find(substring) >= 0.0])\n",
    "    for an in text:\n",
    "        sel = sel | (res.annotations_1 == an)\n",
    "        sel = sel | (res.annotations_2 == an) \n",
    "    return sel"
   ]
  },
  {
   "cell_type": "code",
   "execution_count": 6,
   "metadata": {
    "collapsed": false
   },
   "outputs": [],
   "source": [
    "res = pandas.read_pickle('data/community/full.DELTA.correlation.network.pkl')"
   ]
  },
  {
   "cell_type": "code",
   "execution_count": 11,
   "metadata": {
    "collapsed": false
   },
   "outputs": [
    {
     "data": {
      "text/plain": [
       "(32205, 12)"
      ]
     },
     "execution_count": 11,
     "metadata": {},
     "output_type": "execute_result"
    }
   ],
   "source": [
    "max_pval_adj = 0.05\n",
    "\n",
    "sig = res[(res.pval_adj < max_pval_adj)]\n",
    "sig.shape"
   ]
  },
  {
   "cell_type": "code",
   "execution_count": 10,
   "metadata": {
    "collapsed": false
   },
   "outputs": [
    {
     "name": "stdout",
     "output_type": "stream",
     "text": [
      "853\n",
      "71\n",
      "4\n"
     ]
    },
    {
     "data": {
      "text/plain": [
       "(31277, 12)"
      ]
     },
     "execution_count": 10,
     "metadata": {},
     "output_type": "execute_result"
    }
   ],
   "source": [
    "sub = select(sig, 'COACH')\n",
    "remove = sub.index\n",
    "mask1 = sig.index.isin(remove)\n",
    "print mask1.sum()\n",
    "sub = select(sig, 'AGES')\n",
    "remove = sub.index\n",
    "mask2 = sig.index.isin(remove)\n",
    "print mask2.sum()\n",
    "sub = select(sig, 'CHEMS.None.Genova.height')\n",
    "remove = sub.index\n",
    "mask3 = sig.index.isin(remove)\n",
    "print mask3.sum()\n",
    "sig = sig[~(mask1 | mask2 | mask3)]\n",
    "sig.shape"
   ]
  },
  {
   "cell_type": "code",
   "execution_count": 12,
   "metadata": {
    "collapsed": false
   },
   "outputs": [
    {
     "data": {
      "text/plain": [
       "(32150, 12)"
      ]
     },
     "execution_count": 12,
     "metadata": {},
     "output_type": "execute_result"
    }
   ],
   "source": [
    "rem = pandas.read_csv('data/community/duplicate_measurements.05012016.txt', sep='\\t', header=None)\n",
    "rem.columns = ['ann1', 'ann2']\n",
    "\n",
    "mask = []\n",
    "for index, row in sig.iterrows():\n",
    "    \n",
    "    found = False\n",
    "    for index2, row2 in rem.iterrows():\n",
    "        \n",
    "        if (row['annotations_1']==row2['ann1']) and (row['annotations_2']==row2['ann2']):\n",
    "            found = True\n",
    "            break;\n",
    "        elif (row['annotations_1']==row2['ann2']) and (row['annotations_2']==row2['ann1']):\n",
    "            found = True\n",
    "            break;\n",
    "\n",
    "    mask.append(found)\n",
    "    \n",
    "mask = np.array(mask)\n",
    "sig = sig[~mask]\n",
    "sig.shape"
   ]
  },
  {
   "cell_type": "code",
   "execution_count": 13,
   "metadata": {
    "collapsed": true
   },
   "outputs": [],
   "source": [
    "# Save resulting network to text file\n",
    "sig.to_pickle('data/community/correlation_network.DELTA.sig.nodups.FULL.pkl')"
   ]
  },
  {
   "cell_type": "code",
   "execution_count": 14,
   "metadata": {
    "collapsed": false
   },
   "outputs": [
    {
     "name": "stdout",
     "output_type": "stream",
     "text": [
      "(2550, 12)\n"
     ]
    }
   ],
   "source": [
    "mask = []\n",
    "# Now remove all correlations between pairwise elements\n",
    "for index, row in sig.iterrows():\n",
    "    \n",
    "    cat1 = row['annotations_1'][0:5]\n",
    "    cat2 = row['annotations_2'][0:5]\n",
    "    \n",
    "    if (cat1 == cat2):\n",
    "        mask.append(False)\n",
    "    else:\n",
    "        mask.append(True)\n",
    "        \n",
    "sig = sig[mask]\n",
    "print sig.shape"
   ]
  },
  {
   "cell_type": "code",
   "execution_count": 15,
   "metadata": {
    "collapsed": false
   },
   "outputs": [
    {
     "name": "stdout",
     "output_type": "stream",
     "text": [
      "(45, 12)\n",
      "(21, 12)\n",
      "(863, 12)\n",
      "(2164, 12)\n",
      "(1928, 12)\n"
     ]
    }
   ],
   "source": [
    "print select(sig, 'GENOM').shape\n",
    "print select(sig, 'MICRO').shape\n",
    "print select(sig, 'PROTE').shape\n",
    "print select(sig, 'METAB').shape\n",
    "print select(sig, 'CHEMS').shape"
   ]
  },
  {
   "cell_type": "code",
   "execution_count": 17,
   "metadata": {
    "collapsed": true
   },
   "outputs": [],
   "source": [
    "# Save resulting network to text file\n",
    "sig.to_pickle('data/community/correlation_network.DELTA.sig.nodups.INTRAOMIC.pkl')"
   ]
  },
  {
   "cell_type": "code",
   "execution_count": 18,
   "metadata": {
    "collapsed": false
   },
   "outputs": [],
   "source": [
    "# Load data into networkx\n",
    "g = nx.Graph()"
   ]
  },
  {
   "cell_type": "code",
   "execution_count": 19,
   "metadata": {
    "collapsed": false
   },
   "outputs": [],
   "source": [
    "# add a set of nodes\n",
    "nodes = sig['annotations_1'].append(sig['annotations_2']).unique()\n",
    "datatype = {}\n",
    "super_pathways = {}\n",
    "sub_pathways = {}\n",
    "\n",
    "# Loop over nodes and get type\n",
    "for e in nodes:\n",
    "    tokens = e.split('.')\n",
    "\n",
    "    datatype[e] = tokens[0]\n",
    "    if (datatype[e]=='METAB'):\n",
    "        super_pathways[e] = tokens[2]\n",
    "        sub_pathways[e] = tokens[3]\n",
    "    \n",
    "g.add_nodes_from(list(nodes))\n",
    "nx.set_node_attributes(g, 'type', datatype)\n",
    "nx.set_node_attributes(g, 'super_pathway', super_pathways)\n",
    "nx.set_node_attributes(g, 'sub_pathway', sub_pathways)"
   ]
  },
  {
   "cell_type": "code",
   "execution_count": 20,
   "metadata": {
    "collapsed": false
   },
   "outputs": [],
   "source": [
    "# Add a set of edges\n",
    "edges = []\n",
    "attributes = []\n",
    "for row in sig.iterrows():\n",
    "    g.add_edge(row[1]['annotations_1'], row[1]['annotations_2'], {'weight':abs(row[1]['coefficient']), 'non_abs_weight':row[1]['coefficient']})  "
   ]
  },
  {
   "cell_type": "code",
   "execution_count": 21,
   "metadata": {
    "collapsed": false
   },
   "outputs": [
    {
     "name": "stdout",
     "output_type": "stream",
     "text": [
      "894 2550\n"
     ]
    }
   ],
   "source": [
    "# Count number of nodes and edges\n",
    "print g.number_of_nodes(), g.number_of_edges()"
   ]
  },
  {
   "cell_type": "code",
   "execution_count": 24,
   "metadata": {
    "collapsed": false
   },
   "outputs": [],
   "source": [
    "import sys\n",
    "def girvan_newman(G, k=None, weight=None):\n",
    "    \"\"\"Find communities in graph using Girvan–Newman method.\n",
    "\n",
    "    Parameters\n",
    "    ----------\n",
    "    G : NetworkX graph\n",
    "\n",
    "    weight : string, optional (default=None)\n",
    "       Edge data key corresponding to the edge weight.\n",
    "\n",
    "    Returns\n",
    "    -------\n",
    "    List of tuples which contains the clusters of nodes.\n",
    "\n",
    "    Examples\n",
    "    --------\n",
    "    >>> G = nx.path_graph(10)\n",
    "    >>> comp = girvan_newman(G)\n",
    "    >>> comp[0]\n",
    "    ([0, 1, 2, 3, 4], [8, 9, 5, 6, 7])\n",
    "\n",
    "    Notes\n",
    "    -----\n",
    "    The Girvan–Newman algorithm detects communities by progressively removing\n",
    "    edges from the original graph. Algorithm removes edge with the highest\n",
    "    betweenness centrality at each step. As the graph breaks down into pieces,\n",
    "    the tightly knit community structure is exposed and result can be depicted\n",
    "    as a dendrogram.\n",
    "    \"\"\"\n",
    "    # The copy of G here must include the edge weight data.\n",
    "    g = G.copy().to_undirected()\n",
    "    components = []\n",
    "    while g.number_of_edges() > 0:\n",
    "        print \"Number of edges\", g.number_of_edges()\n",
    "        sys.stdout.flush()\n",
    "        _remove_max_edge(g, k, weight)\n",
    "        components.append(tuple(list(H)\n",
    "                                for H in nx.connected_component_subgraphs(g)))\n",
    "    return components\n",
    "\n",
    "def _remove_max_edge(G, k=None, weight=None):\n",
    "    \"\"\"\n",
    "    Removes edge with the highest value on betweenness centrality.\n",
    "\n",
    "    Repeat this step until more connected components than the connected\n",
    "    components of the original graph are detected.\n",
    "\n",
    "    It is part of Girvan–Newman algorithm.\n",
    "\n",
    "    :param G: NetworkX graph\n",
    "    :param weight: string, optional (default=None) Edge data key corresponding\n",
    "    to the edge weight.\n",
    "    \"\"\"\n",
    "    number_components = nx.number_connected_components(G)\n",
    "    #print number_components\n",
    "    while nx.number_connected_components(G) <= number_components:\n",
    "        betweenness = nx.edge_betweenness_centrality(G, k=k, weight=weight)\n",
    "        #print \"finished betweenness\", nx.number_connected_components(G), number_components\n",
    "        max_value = max(betweenness.values())\n",
    "        #print \"max_value\", max_value\n",
    "        # Use a list of edges because G is changed in the loop\n",
    "        for edge in list(G.edges()):\n",
    "            if betweenness[edge] == max_value:\n",
    "                G.remove_edge(*edge)"
   ]
  },
  {
   "cell_type": "code",
   "execution_count": null,
   "metadata": {
    "collapsed": false
   },
   "outputs": [
    {
     "name": "stdout",
     "output_type": "stream",
     "text": [
      "Number of edges 2550\n",
      "Number of edges 2530\n",
      "Number of edges 2524\n",
      "Number of edges 2521\n",
      "Number of edges 2504\n",
      "Number of edges 2452\n",
      "Number of edges 2444\n",
      "Number of edges 2408\n",
      "Number of edges 2399\n",
      "Number of edges 2374\n",
      "Number of edges 2282\n",
      "Number of edges 2261\n",
      "Number of edges 2246\n",
      "Number of edges 2244\n",
      "Number of edges 2181\n",
      "Number of edges 2071\n",
      "Number of edges 2057\n",
      "Number of edges 2056\n",
      "Number of edges 2010\n",
      "Number of edges 1998\n",
      "Number of edges 1992\n",
      "Number of edges 1985\n",
      "Number of edges 1975\n",
      "Number of edges 1654\n",
      "Number of edges 1652\n",
      "Number of edges 1648\n",
      "Number of edges 1645\n",
      "Number of edges 1641\n",
      "Number of edges 1633\n",
      "Number of edges 1610\n",
      "Number of edges 1605\n",
      "Number of edges 1599\n",
      "Number of edges 1595\n",
      "Number of edges 1581\n",
      "Number of edges 1572\n",
      "Number of edges 1564\n",
      "Number of edges 1560\n",
      "Number of edges 1552\n",
      "Number of edges 1550\n",
      "Number of edges 1544\n",
      "Number of edges 1541\n",
      "Number of edges 1524\n",
      "Number of edges 1523\n",
      "Number of edges 1501\n",
      "Number of edges 1499\n",
      "Number of edges 1494\n",
      "Number of edges 1485\n",
      "Number of edges 1483\n",
      "Number of edges 1481\n",
      "Number of edges 1470\n",
      "Number of edges 1462\n",
      "Number of edges 1459\n",
      "Number of edges 1456\n",
      "Number of edges 1450\n",
      "Number of edges 1449\n",
      "Number of edges 1447\n",
      "Number of edges 1442\n",
      "Number of edges 1441\n",
      "Number of edges 1438\n",
      "Number of edges 1431\n",
      "Number of edges 1426\n",
      "Number of edges 1421\n",
      "Number of edges 1415\n",
      "Number of edges 1414\n",
      "Number of edges 1413\n",
      "Number of edges 1405\n",
      "Number of edges 1395\n",
      "Number of edges 1388\n",
      "Number of edges 1386\n",
      "Number of edges 1374\n",
      "Number of edges 1369\n",
      "Number of edges 1368\n",
      "Number of edges 1330\n",
      "Number of edges 1323\n",
      "Number of edges 1315\n",
      "Number of edges 1313\n",
      "Number of edges 1304\n",
      "Number of edges 1295\n",
      "Number of edges 1287\n",
      "Number of edges 1278\n",
      "Number of edges 1276\n",
      "Number of edges 1271\n",
      "Number of edges 1268\n",
      "Number of edges 1255\n",
      "Number of edges 1247\n",
      "Number of edges 1245\n",
      "Number of edges 1217\n",
      "Number of edges 1208\n",
      "Number of edges 1206\n",
      "Number of edges 1198\n",
      "Number of edges 1182\n",
      "Number of edges 1180\n",
      "Number of edges 1178\n",
      "Number of edges 1171\n",
      "Number of edges 1168\n",
      "Number of edges 1151\n",
      "Number of edges 1140\n",
      "Number of edges 1129\n",
      "Number of edges 1103\n",
      "Number of edges 1098\n",
      "Number of edges 1096\n",
      "Number of edges 1093\n",
      "Number of edges 1077\n",
      "Number of edges 1071\n",
      "Number of edges 1070\n",
      "Number of edges 1067\n",
      "Number of edges 1063\n",
      "Number of edges 1039\n",
      "Number of edges 1037\n",
      "Number of edges 1034\n",
      "Number of edges 1029\n",
      "Number of edges 1021\n",
      "Number of edges 1020\n",
      "Number of edges 1019\n",
      "Number of edges 1017\n",
      "Number of edges 1011\n",
      "Number of edges 1005\n",
      "Number of edges 1000\n",
      "Number of edges 997\n",
      "Number of edges 989\n",
      "Number of edges 986\n",
      "Number of edges 984\n",
      "Number of edges 971\n",
      "Number of edges 958\n",
      "Number of edges 955\n",
      "Number of edges 953\n",
      "Number of edges 951\n",
      "Number of edges 948\n",
      "Number of edges 946\n",
      "Number of edges 943\n",
      "Number of edges 939\n",
      "Number of edges 937\n",
      "Number of edges 930\n",
      "Number of edges 926\n",
      "Number of edges 918\n",
      "Number of edges 906\n",
      "Number of edges 904\n",
      "Number of edges 903\n",
      "Number of edges 890\n",
      "Number of edges 868\n",
      "Number of edges 860\n",
      "Number of edges 849\n",
      "Number of edges 848\n",
      "Number of edges 830\n",
      "Number of edges 828\n",
      "Number of edges 825\n",
      "Number of edges 818\n",
      "Number of edges 808\n",
      "Number of edges 803\n",
      "Number of edges 790\n",
      "Number of edges 789\n",
      "Number of edges 788\n",
      "Number of edges 785\n",
      "Number of edges 781\n",
      "Number of edges 764\n",
      "Number of edges 762\n",
      "Number of edges 757\n",
      "Number of edges 756\n",
      "Number of edges 752\n",
      "Number of edges 722\n",
      "Number of edges 721\n",
      "Number of edges 719\n",
      "Number of edges 716\n",
      "Number of edges 714\n",
      "Number of edges 708\n",
      "Number of edges 680\n",
      "Number of edges 679\n",
      "Number of edges 669\n",
      "Number of edges 667\n",
      "Number of edges 664\n",
      "Number of edges 660\n",
      "Number of edges 656\n",
      "Number of edges 652\n",
      "Number of edges 607\n",
      "Number of edges 600\n",
      "Number of edges 596\n",
      "Number of edges 595\n",
      "Number of edges 591\n",
      "Number of edges 583\n",
      "Number of edges 556\n",
      "Number of edges 554\n",
      "Number of edges 537\n",
      "Number of edges 491\n",
      "Number of edges 487\n",
      "Number of edges 485\n",
      "Number of edges 481\n",
      "Number of edges 478\n",
      "Number of edges 411\n",
      "Number of edges 406\n",
      "Number of edges 404\n",
      "Number of edges 400\n",
      "Number of edges 336\n",
      "Number of edges 335\n",
      "Number of edges 333\n",
      "Number of edges 327\n",
      "Number of edges 245\n",
      "Number of edges 244\n",
      "Number of edges 242\n",
      "Number of edges 237\n",
      "Number of edges 234\n",
      "Number of edges 233\n",
      "Number of edges 115\n",
      "Number of edges 111\n",
      "Number of edges 108\n",
      "Number of edges 106\n"
     ]
    }
   ],
   "source": [
    "# Note: this takes about an hou\n",
    "communities = girvan_newman(g, weight='weight')\n",
    "\n",
    "# Save the community to a file\n",
    "cindex = 0\n",
    "gindex = 0\n",
    "\n",
    "with open('data/community/generated.communities.DELTA.sig.nodups.INTRAOMIC.txt', 'w') as f:\n",
    "\n",
    "    cindex = 0\n",
    "    for community in communities:\n",
    "        gindex = 0\n",
    "        for graph in community:\n",
    "\n",
    "            for node in graph:\n",
    "                f.write(\"%d\\t%d\\t%s\\n\"%(cindex, gindex, node))\n",
    "\n",
    "            gindex += 1\n",
    "\n",
    "        cindex += 1\n",
    "\n"
   ]
  },
  {
   "cell_type": "code",
   "execution_count": 26,
   "metadata": {
    "collapsed": false
   },
   "outputs": [
    {
     "data": {
      "text/plain": [
       "228"
      ]
     },
     "execution_count": 26,
     "metadata": {},
     "output_type": "execute_result"
    }
   ],
   "source": [
    "len(communities)"
   ]
  },
  {
   "cell_type": "code",
   "execution_count": 27,
   "metadata": {
    "collapsed": false
   },
   "outputs": [],
   "source": [
    "# Load the community\n",
    "communities_dict = []\n",
    "\n",
    "current_community = None\n",
    "current_subgraph = None\n",
    "data = {}\n",
    "\n",
    "# Load the community as a set of dictionaries\n",
    "with open('data/community/generated.communities.DELTA.sig.nodups.INTRAOMIC.txt', 'r') as f:\n",
    "\n",
    "    for line in f:\n",
    "        \n",
    "        tokens = line.strip().split('\\t')\n",
    "        c = int(tokens[0])\n",
    "        subgraph = int(tokens[1])\n",
    "        node = tokens[2]\n",
    "\n",
    "        if (current_community is None):\n",
    "            current_community = c\n",
    "            current_subgraph = subgraph\n",
    "            data[node] = subgraph\n",
    "            \n",
    "        elif (c != current_community):          \n",
    "            communities_dict.append(data)\n",
    "            data = {}\n",
    "            current_community = c\n",
    "            current_subgraph = subgraph\n",
    "            \n",
    "        data[node] = subgraph\n",
    "        \n",
    "    #if (len(data)>0):\n",
    "    #    subgraphs.append(data)\n",
    "        \n",
    "    #if (len(subgraphs)>0):\n",
    "    #    communities_dict.append(subgraphs)\n",
    "            "
   ]
  },
  {
   "cell_type": "code",
   "execution_count": 29,
   "metadata": {
    "collapsed": false
   },
   "outputs": [],
   "source": [
    "import community\n",
    "results = []\n",
    "count = 0\n",
    "mods = []\n",
    "for c in communities_dict:\n",
    "    mod = community.modularity(c, g)\n",
    "    results.append((count, mod))\n",
    "    mods.append(mod)\n",
    "    count += 1\n",
    "    \n",
    "df = pandas.DataFrame(results, columns=['index', 'modularity']).sort_values('modularity', ascending=False)\n"
   ]
  },
  {
   "cell_type": "code",
   "execution_count": 30,
   "metadata": {
    "collapsed": false
   },
   "outputs": [
    {
     "data": {
      "text/html": [
       "<div>\n",
       "<table border=\"1\" class=\"dataframe\">\n",
       "  <thead>\n",
       "    <tr style=\"text-align: right;\">\n",
       "      <th></th>\n",
       "      <th>index</th>\n",
       "      <th>modularity</th>\n",
       "    </tr>\n",
       "  </thead>\n",
       "  <tbody>\n",
       "    <tr>\n",
       "      <th>17</th>\n",
       "      <td>17</td>\n",
       "      <td>0.648610</td>\n",
       "    </tr>\n",
       "    <tr>\n",
       "      <th>18</th>\n",
       "      <td>18</td>\n",
       "      <td>0.647560</td>\n",
       "    </tr>\n",
       "    <tr>\n",
       "      <th>20</th>\n",
       "      <td>20</td>\n",
       "      <td>0.647462</td>\n",
       "    </tr>\n",
       "    <tr>\n",
       "      <th>19</th>\n",
       "      <td>19</td>\n",
       "      <td>0.647168</td>\n",
       "    </tr>\n",
       "    <tr>\n",
       "      <th>21</th>\n",
       "      <td>21</td>\n",
       "      <td>0.647125</td>\n",
       "    </tr>\n",
       "  </tbody>\n",
       "</table>\n",
       "</div>"
      ],
      "text/plain": [
       "    index  modularity\n",
       "17     17    0.648610\n",
       "18     18    0.647560\n",
       "20     20    0.647462\n",
       "19     19    0.647168\n",
       "21     21    0.647125"
      ]
     },
     "execution_count": 30,
     "metadata": {},
     "output_type": "execute_result"
    }
   ],
   "source": [
    "df.head()"
   ]
  },
  {
   "cell_type": "code",
   "execution_count": 31,
   "metadata": {
    "collapsed": false
   },
   "outputs": [
    {
     "data": {
      "text/plain": [
       "[<matplotlib.lines.Line2D at 0x7f329e4820d0>]"
      ]
     },
     "execution_count": 31,
     "metadata": {},
     "output_type": "execute_result"
    },
    {
     "data": {
      "image/png": "[encoded data removed]",
      "text/plain": [
       "<matplotlib.figure.Figure at 0x7f329f05a690>"
      ]
     },
     "metadata": {},
     "output_type": "display_data"
    }
   ],
   "source": [
    "plt.plot(mods)"
   ]
  },
  {
   "cell_type": "code",
   "execution_count": 32,
   "metadata": {
    "collapsed": false
   },
   "outputs": [],
   "source": [
    "# Load the community as a list of lists\n",
    "communities = []\n",
    "\n",
    "current_community = None\n",
    "current_subgraph = None\n",
    "data = []\n",
    "subgraphs = []\n",
    "\n",
    "# Load the community as a set of dictionaries\n",
    "with open('data/community/generated.communities.DELTA.sig.nodups.INTRAOMIC.txt', 'r') as f:\n",
    "\n",
    "    for line in f:\n",
    "        \n",
    "        tokens = line.strip().split('\\t')\n",
    "        c = int(tokens[0])\n",
    "        subgraph = int(tokens[1])\n",
    "        node = tokens[2]\n",
    "\n",
    "        if (current_community is None):\n",
    "            current_community = c\n",
    "            current_subgraph = subgraph\n",
    "            \n",
    "        else:\n",
    "            \n",
    "            if (subgraph != current_subgraph):\n",
    "                subgraphs.append(data)\n",
    "                data = []\n",
    "                current_subgraph = subgraph\n",
    "            \n",
    "            if (c != current_community):          \n",
    "                communities.append(subgraphs)\n",
    "                subgraphs = []\n",
    "                current_community = c\n",
    "            \n",
    "        data.append(node)\n",
    "        \n",
    "    if (len(data)>0):\n",
    "        subgraphs.append(data)\n",
    "        \n",
    "    if (len(subgraphs)>0):\n",
    "        communities.append(subgraphs)\n",
    "            "
   ]
  },
  {
   "cell_type": "code",
   "execution_count": 33,
   "metadata": {
    "collapsed": false
   },
   "outputs": [
    {
     "name": "stdout",
     "output_type": "stream",
     "text": [
      "Number of communities 44 44\n",
      "[2, 2, 2, 2, 2, 2, 2, 2, 2, 2, 3, 3, 3, 3, 3, 3, 4, 4, 4, 4, 5, 6, 6, 6, 6, 6, 7, 7, 8, 9, 11, 11, 16, 17, 18, 27, 30, 34, 45, 53, 92, 112, 124, 184]\n",
      "Node stats 20.3181818182 184 2 894\n",
      "Edge stats 45.9772727273 608 1 2023\n",
      "Percent of nodes in a community 1.0\n",
      "Percent of edges in a community 0.793333333333\n"
     ]
    }
   ],
   "source": [
    "COMMUNITY_LEVEL = 20\n",
    "nnodes = []\n",
    "nedges = []\n",
    "for e in communities[COMMUNITY_LEVEL]:\n",
    "    if (len(e)>1):   \n",
    "        sg = g.subgraph(e)\n",
    "        nnodes.append(sg.number_of_nodes())\n",
    "        nedges.append(sg.number_of_edges())\n",
    "        \n",
    "print \"Number of communities\", len(nnodes), len(nedges)\n",
    "print sorted(nnodes)\n",
    "print \"Node stats\", np.mean(nnodes), np.max(nnodes), np.min(nnodes), np.sum(nnodes)\n",
    "print \"Edge stats\", np.mean(nedges), np.max(nedges), np.min(nedges), np.sum(nedges)\n",
    "\n",
    "# Get percentage of nodes used\n",
    "print \"Percent of nodes in a community\", float(np.sum(nnodes)) / g.number_of_nodes()\n",
    "print \"Percent of edges in a community\", float(np.sum(nedges)) / g.number_of_edges()"
   ]
  },
  {
   "cell_type": "code",
   "execution_count": 35,
   "metadata": {
    "collapsed": false
   },
   "outputs": [
    {
     "data": {
      "text/html": [
       "<div>\n",
       "<table border=\"1\" class=\"dataframe\">\n",
       "  <thead>\n",
       "    <tr style=\"text-align: right;\">\n",
       "      <th></th>\n",
       "      <th>cindex</th>\n",
       "      <th>gindex</th>\n",
       "      <th>node</th>\n",
       "    </tr>\n",
       "  </thead>\n",
       "  <tbody>\n",
       "    <tr>\n",
       "      <th>0</th>\n",
       "      <td>0</td>\n",
       "      <td>0</td>\n",
       "      <td>CHEMS.None.Genova.beta_alanine_plasma</td>\n",
       "    </tr>\n",
       "    <tr>\n",
       "      <th>1</th>\n",
       "      <td>0</td>\n",
       "      <td>0</td>\n",
       "      <td>PROTE.None.Inflammation.TWEAK.None</td>\n",
       "    </tr>\n",
       "    <tr>\n",
       "      <th>2</th>\n",
       "      <td>0</td>\n",
       "      <td>0</td>\n",
       "      <td>PROTE.None.Inflammation.Flt3L.None</td>\n",
       "    </tr>\n",
       "    <tr>\n",
       "      <th>3</th>\n",
       "      <td>0</td>\n",
       "      <td>0</td>\n",
       "      <td>PROTE.None.Inflammation.uPA.None</td>\n",
       "    </tr>\n",
       "    <tr>\n",
       "      <th>4</th>\n",
       "      <td>0</td>\n",
       "      <td>0</td>\n",
       "      <td>PROTE.None.Inflammation.IL_10RB.None</td>\n",
       "    </tr>\n",
       "  </tbody>\n",
       "</table>\n",
       "</div>"
      ],
      "text/plain": [
       "   cindex  gindex                                   node\n",
       "0       0       0  CHEMS.None.Genova.beta_alanine_plasma\n",
       "1       0       0     PROTE.None.Inflammation.TWEAK.None\n",
       "2       0       0     PROTE.None.Inflammation.Flt3L.None\n",
       "3       0       0       PROTE.None.Inflammation.uPA.None\n",
       "4       0       0   PROTE.None.Inflammation.IL_10RB.None"
      ]
     },
     "execution_count": 35,
     "metadata": {},
     "output_type": "execute_result"
    }
   ],
   "source": [
    "communities = pandas.read_csv('data/community/generated.communities.DELTA.sig.nodups.INTRAOMIC.txt', header=None, sep='\\t')\n",
    "communities.columns = ['cindex', 'gindex', 'node']\n",
    "communities.head()"
   ]
  }
 ],
 "metadata": {
  "kernelspec": {
   "display_name": "python2",
   "language": "python",
   "name": "python2"
  },
  "language_info": {
   "codemirror_mode": {
    "name": "ipython",
    "version": 2
   },
   "file_extension": ".py",
   "mimetype": "text/x-python",
   "name": "python",
   "nbconvert_exporter": "python",
   "pygments_lexer": "ipython2",
   "version": "2.7.6"
  }
 },
 "nbformat": 4,
 "nbformat_minor": 0
}
