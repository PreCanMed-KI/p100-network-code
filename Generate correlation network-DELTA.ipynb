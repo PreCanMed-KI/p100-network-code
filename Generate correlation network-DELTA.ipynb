{
 "cells": [
  {
   "cell_type": "markdown",
   "metadata": {},
   "source": [
    "# Correlation network: all comparisons and Normalized \n",
    "\n",
    "This analysis generates a correlation network that includes intra-datasource correlations of delta values\n"
   ]
  },
  {
   "cell_type": "code",
   "execution_count": null,
   "metadata": {
    "collapsed": false
   },
   "outputs": [],
   "source": [
    "from IPython.core.display import display, HTML\n",
    "\n",
    "display(HTML('''<style>\n",
    ".container {width:98% !important;}\n",
    ".dataframe th{font: bold 14px times; background: #0ea; text-align: right;}\n",
    ".dataframe td{font: 14px courier; background: #fff; text-align: right;}\n",
    ".output_subarea.output_text.output_stream.output_stderr {background: #fff; font-style: italic;}\n",
    "</style>'''))"
   ]
  },
  {
   "cell_type": "code",
   "execution_count": null,
   "metadata": {
    "collapsed": false
   },
   "outputs": [],
   "source": [
    "%load_ext autoreload\n",
    "%autoreload 2"
   ]
  },
  {
   "cell_type": "code",
   "execution_count": null,
   "metadata": {
    "collapsed": false
   },
   "outputs": [],
   "source": [
    "try:\n",
    "    run_once\n",
    "except NameError:\n",
    "    run_once = False\n",
    "if not run_once:\n",
    "    run_once = True\n",
    "    \n",
    "    import time\n",
    "    import logging\n",
    "    reload(logging)\n",
    "    FORMAT = '%(asctime)s - %(name)s - %(levelname)s - %(message)s'\n",
    "    log_path = '/notebooks/logs/correlation.log'\n",
    "    print \"logging to %s\" % log_path\n",
    "    logging.basicConfig(filename=log_path,level=logging.DEBUG, format=FORMAT)\n",
    "    logger = logging.getLogger()\n",
    "    #logger.basicConfig(filename='/notebooks/Export Microbiome to database.log',level=logging.DEBUG)\n",
    "    logger.setLevel(logging.DEBUG)\n",
    "    ch = logging.StreamHandler()\n",
    "    ch.setLevel(logging.DEBUG)\n",
    "\n",
    "    # create formatter\n",
    "    formatter = logging.Formatter('%(asctime)s - %(name)s - %(levelname)s - %(message)s')\n",
    "\n",
    "    # add formatter to ch\n",
    "    ch.setFormatter(formatter)\n",
    "\n",
    "    # add ch to logger\n",
    "    logger.addHandler(ch)"
   ]
  },
  {
   "cell_type": "code",
   "execution_count": null,
   "metadata": {
    "collapsed": false
   },
   "outputs": [],
   "source": [
    "%matplotlib inline\n",
    "import pandas, pandas.io\n",
    "import re\n",
    "import seaborn as sns\n",
    "import math\n",
    "import scipy, scipy.stats\n",
    "import matplotlib.pyplot as plt\n",
    "import numpy as np\n",
    "import string\n",
    "import os, os.path\n",
    "#from p100.database.redshift import Redshift\n",
    "from p100.database import Database\n",
    "logging.getLogger('boto').setLevel(logging.INFO)\n",
    "logging.getLogger('p100').setLevel(logging.INFO)"
   ]
  },
  {
   "cell_type": "code",
   "execution_count": null,
   "metadata": {
    "collapsed": false
   },
   "outputs": [],
   "source": [
    "import correlationsnodb.datasource as datasource"
   ]
  },
  {
   "cell_type": "code",
   "execution_count": null,
   "metadata": {
    "collapsed": false
   },
   "outputs": [],
   "source": [
    "import correlationsnodb.analysis as analysis"
   ]
  },
  {
   "cell_type": "code",
   "execution_count": null,
   "metadata": {
    "collapsed": true
   },
   "outputs": [],
   "source": [
    "DS_ID_MAP= 'data/ds_id_map.pkl'                                                                                                                                                                                                             \n",
    "PART_DF = 'data/participant_data.pkl'  \n",
    "DATA_DIR = 'data'"
   ]
  },
  {
   "cell_type": "code",
   "execution_count": null,
   "metadata": {
    "collapsed": false
   },
   "outputs": [],
   "source": [
    "\n",
    "import datetime\n",
    "import itertools\n",
    "def generate_correlations(args):\n",
    "    rnd, entropy = args\n",
    "    dsf = datasource.DataSourceFactory(ds_id_map=DS_ID_MAP, part_df=PART_DF, data_dir=DATA_DIR)\n",
    "    logging.getLogger('p100.utils.correlations').setLevel(logging.DEBUG)\n",
    "    # get all pairwise datasources\n",
    "    bc = dsf.get_all_comparisons()\n",
    "    analy = analysis.Analysis(ds_id_map=DS_ID_MAP, part_df=PART_DF)\n",
    "\n",
    "    for c1, c2 in bc:\n",
    "        try:\n",
    "            analy.Correlate( c1, c2, mean=False, mean_age_sex=False, delta_age_sex=True, tests=[analy.spearman], cutoff=1.01)\n",
    "        except:\n",
    "            logging.exception(\"Error correlating %s and %s for round %s\" % ( str(c1), str(c2), rnd) )\n",
    "            raise\n",
    "        logging.debug(\"Completed comparisong %s and %s for round %s\" % ( str(c1), str(c2), rnd))\n",
    "\n",
    "    logging.info( \"Correlations %s round(%s) entropy(%0.1f)\" % (datetime.date.isoformat(datetime.datetime.now()),str(rnd), entropy) )\n",
    "    return analy"
   ]
  },
  {
   "cell_type": "code",
   "execution_count": null,
   "metadata": {
    "collapsed": false,
    "scrolled": false
   },
   "outputs": [],
   "source": [
    "analysis = generate_correlations(('delta', 0.75))"
   ]
  },
  {
   "cell_type": "code",
   "execution_count": null,
   "metadata": {
    "collapsed": false
   },
   "outputs": [],
   "source": [
    "r = analysis.GetResult()\n",
    "r.head()"
   ]
  },
  {
   "cell_type": "code",
   "execution_count": null,
   "metadata": {
    "collapsed": false
   },
   "outputs": [],
   "source": [
    "r.shape"
   ]
  },
  {
   "cell_type": "code",
   "execution_count": null,
   "metadata": {
    "collapsed": false
   },
   "outputs": [],
   "source": [
    "r = analysis.GetResult(annotated=True)\n",
    "r.head()"
   ]
  },
  {
   "cell_type": "code",
   "execution_count": null,
   "metadata": {
    "collapsed": false
   },
   "outputs": [],
   "source": [
    "r = analysis.GetResult(annotated=True, entropy=True)\n",
    "r.head()"
   ]
  },
  {
   "cell_type": "code",
   "execution_count": null,
   "metadata": {
    "collapsed": true
   },
   "outputs": [],
   "source": []
  }
 ],
 "metadata": {
  "kernelspec": {
   "display_name": "python2",
   "language": "python",
   "name": "python2"
  },
  "language_info": {
   "codemirror_mode": {
    "name": "ipython",
    "version": 2
   },
   "file_extension": ".py",
   "mimetype": "text/x-python",
   "name": "python",
   "nbconvert_exporter": "python",
   "pygments_lexer": "ipython2",
   "version": "2.7.6"
  }
 },
 "nbformat": 4,
 "nbformat_minor": 0
}
