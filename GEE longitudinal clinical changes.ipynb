{
 "cells": [
  {
   "cell_type": "code",
   "execution_count": null,
   "metadata": {
    "collapsed": false
   },
   "outputs": [],
   "source": [
    "from IPython.core.display import display, HTML\n",
    "\n",
    "display(HTML('''<style>\n",
    ".container {width:98% !important;}\n",
    ".dataframe th{font: bold 14px times; background: #0ea; text-align: right;}\n",
    ".dataframe td{font: 14px courier; background: #fff; text-align: right;}\n",
    ".output_subarea.output_text.output_stream.output_stderr {background: #fff; font-style: italic;}\n",
    "</style>'''))"
   ]
  },
  {
   "cell_type": "code",
   "execution_count": null,
   "metadata": {
    "collapsed": false
   },
   "outputs": [],
   "source": [
    "try:\n",
    "    run_once\n",
    "except NameError:\n",
    "    run_once = False\n",
    "if not run_once:\n",
    "    run_once = True\n",
    "    \n",
    "    import time\n",
    "    import logging\n",
    "    reload(logging)\n",
    "    FORMAT = '%(asctime)s - %(name)s - %(levelname)s - %(message)s'\n",
    "    log_path = 'GEE.log'\n",
    "    print \"logging to %s\" % log_path\n",
    "    logging.basicConfig(filename=log_path,level=logging.DEBUG, format=FORMAT)\n",
    "    logger = logging.getLogger()\n",
    "    #logger.basicConfig(filename='/notebooks/Export Microbiome to database.log',level=logging.DEBUG)\n",
    "    logger.setLevel(logging.DEBUG)\n",
    "    ch = logging.StreamHandler()\n",
    "    ch.setLevel(logging.DEBUG)\n",
    "\n",
    "    # create formatter\n",
    "    formatter = logging.Formatter('%(asctime)s - %(name)s - %(levelname)s - %(message)s')\n",
    "\n",
    "    # add formatter to ch\n",
    "    ch.setFormatter(formatter)\n",
    "\n",
    "    # add ch to logger\n",
    "    logger.addHandler(ch)"
   ]
  },
  {
   "cell_type": "code",
   "execution_count": null,
   "metadata": {
    "collapsed": false
   },
   "outputs": [],
   "source": [
    "%matplotlib inline\n",
    "import pandas, pandas.io\n",
    "import re\n",
    "import seaborn as sns\n",
    "import math\n",
    "import scipy, scipy.stats\n",
    "import matplotlib.pyplot as plt\n",
    "import numpy as np\n",
    "import string\n",
    "import os, os.path\n",
    "logging.getLogger('boto').setLevel(logging.INFO)\n",
    "logging.getLogger('p100').setLevel(logging.INFO)\n",
    "import statsmodels.formula.api as smf\n",
    "import statsmodels.api as sm"
   ]
  },
  {
   "cell_type": "code",
   "execution_count": null,
   "metadata": {
    "collapsed": true
   },
   "outputs": [],
   "source": [
    "PART_DF = '/home/jovyan/work/data/participant_data.pkl'\n",
    "DATA_DIR = '/home/jovyan/work/data/GEE'"
   ]
  },
  {
   "cell_type": "markdown",
   "metadata": {},
   "source": [
    "## Setting up quadrants(sic)"
   ]
  },
  {
   "cell_type": "code",
   "execution_count": null,
   "metadata": {
    "collapsed": false
   },
   "outputs": [],
   "source": [
    "# analytes to apply longitudinal GEE\n",
    "analytes = [\n",
    "'total_cholesterol',\n",
    "'cholesterol_total_quest',\n",
    "'ldl_cholesterol',\n",
    "'hdl_cholesterol',\n",
    "'triglycerides',\n",
    "'triglycerides_quest',\n",
    "'ldl_pattern_quest',\n",
    "'ldl_particle',\n",
    "'small_ldl_particle',\n",
    "'ldl_particle_number_quest',\n",
    "'ldl_medium_quest',\n",
    "'ldl_small_quest',\n",
    "'hdl_large_quest',\n",
    "'glucose',\n",
    "'glucose_quest',\n",
    "'hba1c',\n",
    "'insulin',\n",
    "'homa_ir',\n",
    "'interleukin_il6',\n",
    "'interleukin_il8',\n",
    "'tnfalpha',\n",
    "'hs_crp',\n",
    "'vitamin_d',\n",
    "'glutathione',\n",
    "'ferritin_quest',\n",
    "'zinc',\n",
    "'methylmalonic_acid',\n",
    "'methylmalonic_acid_quest',\n",
    "'selenium',\n",
    "'mercury',\n",
    "'copper',\n",
    "'manganese',\n",
    "'arachidonic_acid',\n",
    "'eicosapentaenoic_acid',\n",
    "'docosapentaenoic_acid',\n",
    "]"
   ]
  },
  {
   "cell_type": "code",
   "execution_count": null,
   "metadata": {
    "collapsed": true
   },
   "outputs": [],
   "source": [
    "q_string_inrange = \"\"\"SELECT co.round, cv.value, cv.chemistry_id, pp.username, cc.name, cc.unit, cr.range_level\n",
    "                FROM chem_values cv, chem_observations co, chem_chemistries cc, prt_participant pp,\n",
    "                chem_ranges cr\n",
    "                WHERE cc.chemistry_id = cv.chemistry_id\n",
    "                and co.observation_id = cv.observation_id\n",
    "                and pp.username = co.username\n",
    "                and cr.chemistry_id = cc.chemistry_id\n",
    "                and pp.gender = cr.gender\n",
    "                and (cr.min_value IS NULL or cr.min_value <= cv.value)\n",
    "                and (cr.max_value IS NULL or cr.max_value >= cv.value)\n",
    "                and co.round != 4\n",
    "                and cc.name = %s\"\"\"\n",
    "\n",
    "from math import log10, floor\n",
    "def round_sig(x, sig=2):\n",
    "    if (x is None):\n",
    "        return None\n",
    "    if (x<0):\n",
    "        return -round(abs(x), sig-int(floor(log10((abs(x)))))-1)\n",
    "    elif (x>0):\n",
    "        return round(abs(x), sig-int(floor(log10((abs(x)))))-1)\n",
    "    else:\n",
    "        return 0.0\n",
    "\n",
    "def RunGEEModel(data_file, part_file):\n",
    "    \n",
    "    # Load the analyte data\n",
    "    data = pandas.read_pickle(data_file)\n",
    "    \n",
    "    \n",
    "    # Load all participants\n",
    "    prts = pandas.read_pickle(part_file)\n",
    "    data = data.merge(prts, on=['username'])\n",
    "    data.dropna(inplace=True)\n",
    "    unit = data.iloc[0]['unit']\n",
    "            \n",
    "    # Get those out of range at baseline\n",
    "    data['oor'] = (data['round']==1) & (data['range_level']!='INRANGE')\n",
    "    \n",
    "    # Set the OOR for all observations if out of range at baseline\n",
    "    n_oor = 0\n",
    "    n_total = 0\n",
    "    n_ir = 0\n",
    "    \n",
    "    for username, rows in data.groupby('username'):\n",
    "        n_total += 1\n",
    "        if (rows['oor'].sum() == 1):\n",
    "            data.loc[data['username']==username, ['oor']] = 1\n",
    "            n_oor+=1\n",
    "    n_ir = n_total-n_oor\n",
    "        \n",
    "    label1 = 'round'\n",
    "    label2 = 'C(oor)[T.True]:round'\n",
    "        \n",
    "    # Run second GEE model over entire population\n",
    "    mod2 = smf.gee(\"value ~ age + C(gender) + C(ancestry) + round\", \"username\", data, cov_struct=sm.cov_struct.Independence())\n",
    "    res2 = mod2.fit()  \n",
    "    \n",
    "    cov2 = res2.cov_params()\n",
    "    conf_int2 = list(res2.conf_int().loc[label1])\n",
    "    coef2 = res2.params\n",
    "        \n",
    "    if (data['oor'].sum() > 0):\n",
    "\n",
    "        # Run GEE model\n",
    "        mod = smf.gee(\"value ~ age + C(gender) + C(ancestry) + C(oor)*round\", \"username\", data, cov_struct=sm.cov_struct.Independence())\n",
    "        res = mod.fit()\n",
    "    \n",
    "        cov = res.cov_params()\n",
    "        conf_int = list(res.conf_int().loc[label1])\n",
    "        coef = res.params\n",
    "    \n",
    "        gamma = coef[label1] + coef[label2]\n",
    "        var_gamma = cov.loc[label1, label1] + cov.loc[label2, label2] + 2*cov.loc[label1, label2]\n",
    "        std_err_gamma = math.sqrt(var_gamma)\n",
    "        conf_int_gamma = [gamma - 1.965*std_err_gamma, gamma + 1.965*std_err_gamma]\n",
    "        z_gamma_squared = gamma**2 / var_gamma\n",
    "        pvalue_gamma = scipy.stats.chi2.sf(z_gamma_squared, 1)\n",
    "        z_gamma = math.sqrt(z_gamma_squared)\n",
    "        print analyte, z_gamma_squared, pvalue_gamma\n",
    "        \n",
    "    else:\n",
    "        #No oor values\n",
    "        return analyte, unit, n_total, round_sig(coef2[label1]), [round_sig(conf_int2[0]), round_sig(conf_int2[1])], round_sig(res2.pvalues.loc[label1]), None, None, None, None, None, None, None, None\n",
    "    \n",
    "    # Get in-range statistics\n",
    "    return analyte, unit, n_total, round_sig(coef2[label1]), [round_sig(conf_int2[0]), round_sig(conf_int2[1])], round_sig(res2.pvalues.loc[label1]), n_ir, round_sig(coef[label1]), [round_sig(conf_int[0]), round_sig(conf_int[1])], round_sig(res.pvalues.loc[label1]), n_oor, round_sig(float(gamma)), [round_sig(conf_int_gamma[0]), round_sig(conf_int_gamma[1])], round_sig(pvalue_gamma)"
   ]
  },
  {
   "cell_type": "code",
   "execution_count": null,
   "metadata": {
    "collapsed": false,
    "scrolled": true
   },
   "outputs": [],
   "source": [
    "results = []\n",
    "for analyte in analytes:\n",
    "    print analyte\n",
    "    dfile = \"%s/%s.pkl\" % (DATA_DIR, analyte)\n",
    "    \n",
    "    results.append(RunGEEModel(dfile, PART_DF))\n",
    "    \n",
    "df = pandas.DataFrame(results, columns=['analyte', 'unit', 'all_N', 'all_coef', 'all_confint', 'all_pvalue', 'ir_N', 'ir_coef', 'ir_confint', 'ir_pvalue', 'oor_N', 'oor_coef', 'oor_confint', 'oor_pvalue'])"
   ]
  },
  {
   "cell_type": "code",
   "execution_count": null,
   "metadata": {
    "collapsed": false
   },
   "outputs": [],
   "source": [
    "# Print table for manuscript in proper order\n",
    "df_final = df[['analyte', 'unit', 'oor_N', 'oor_coef', 'oor_confint', 'oor_pvalue', 'all_N', 'all_coef', 'all_confint', 'all_pvalue']]"
   ]
  },
  {
   "cell_type": "code",
   "execution_count": null,
   "metadata": {
    "collapsed": false
   },
   "outputs": [],
   "source": [
    "pandas.set_option('display.precision', 1)\n",
    "df_final.sort_values('oor_pvalue', ascending=True)"
   ]
  },
  {
   "cell_type": "code",
   "execution_count": null,
   "metadata": {
    "collapsed": true
   },
   "outputs": [],
   "source": []
  }
 ],
 "metadata": {
  "kernelspec": {
   "display_name": "Python 2",
   "language": "python",
   "name": "python2"
  },
  "language_info": {
   "codemirror_mode": {
    "name": "ipython",
    "version": 2
   },
   "file_extension": ".py",
   "mimetype": "text/x-python",
   "name": "python",
   "nbconvert_exporter": "python",
   "pygments_lexer": "ipython2",
   "version": "2.7.12"
  }
 },
 "nbformat": 4,
 "nbformat_minor": 0
}
